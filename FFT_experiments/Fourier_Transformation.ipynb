{
  "nbformat": 4,
  "nbformat_minor": 0,
  "metadata": {
    "colab": {
      "name": "Fourier Transformation.ipynb",
      "provenance": [],
      "collapsed_sections": [],
      "authorship_tag": "ABX9TyNl7CTs1ZF7q87iLNjJRbV8",
      "include_colab_link": true
    },
    "kernelspec": {
      "name": "python3",
      "display_name": "Python 3"
    },
    "language_info": {
      "name": "python"
    }
  },
  "cells": [
    {
      "cell_type": "markdown",
      "metadata": {
        "id": "view-in-github",
        "colab_type": "text"
      },
      "source": [
        "<a href=\"https://colab.research.google.com/github/vijaynadimpalli/PDE-Deep_Learning-vs-FFT/blob/main/Fourier_Transformation.ipynb\" target=\"_parent\"><img src=\"https://colab.research.google.com/assets/colab-badge.svg\" alt=\"Open In Colab\"/></a>"
      ]
    },
    {
      "cell_type": "markdown",
      "metadata": {
        "id": "YfX1T5IquFgR"
      },
      "source": [
        "In this notebook, we approximate a function using fourier transform.."
      ]
    },
    {
      "cell_type": "code",
      "metadata": {
        "id": "2vnI3ZHIZBTc"
      },
      "source": [
        "import numpy as np\n",
        "import matplotlib.pyplot as plt"
      ],
      "execution_count": null,
      "outputs": []
    },
    {
      "cell_type": "code",
      "metadata": {
        "id": "gOKdiF8oZIp_"
      },
      "source": [
        "def fourier_step_func(t, n_circles):\n",
        "  \"\"\"\n",
        "  Fourier transform for step function.\n",
        "  \"\"\"\n",
        "\n",
        "  res = np.zeros(len(t))\n",
        "  n = 1\n",
        "  pi = np.pi\n",
        "  L = 2 * pi\n",
        "\n",
        "  while n_circles != 0:\n",
        "    res += (4 / (n * pi)) * np.sin(n * pi * t / L)\n",
        "    n += 2\n",
        "    n_circles -= 1\n",
        "  \n",
        "  return res"
      ],
      "execution_count": null,
      "outputs": []
    },
    {
      "cell_type": "code",
      "metadata": {
        "colab": {
          "base_uri": "https://localhost:8080/",
          "height": 282
        },
        "id": "ttK-Txv_atMR",
        "outputId": "3b5245ce-d2a0-4d20-c830-6407c6d4da6c"
      },
      "source": [
        "plt.plot(fourier_step_func(np.linspace(0, 10, 10000), 1000))"
      ],
      "execution_count": null,
      "outputs": [
        {
          "output_type": "execute_result",
          "data": {
            "text/plain": [
              "[<matplotlib.lines.Line2D at 0x7f07bf5da610>]"
            ]
          },
          "metadata": {
            "tags": []
          },
          "execution_count": 26
        },
        {
          "output_type": "display_data",
          "data": {
            "image/png": "[encoded data removed]",
            "text/plain": [
              "<Figure size 432x288 with 1 Axes>"
            ]
          },
          "metadata": {
            "tags": [],
            "needs_background": "light"
          }
        }
      ]
    },
    {
      "cell_type": "code",
      "metadata": {
        "id": "KshQN8EZcuWW"
      },
      "source": [
        "def dome_func(t):\n",
        "  if t >= 0.5:\n",
        "    res = 1 - t\n",
        "  else:\n",
        "    res = t\n",
        "\n",
        "  return t + 1j * res"
      ],
      "execution_count": null,
      "outputs": []
    },
    {
      "cell_type": "code",
      "metadata": {
        "colab": {
          "base_uri": "https://localhost:8080/",
          "height": 282
        },
        "id": "nbsDiku-du3c",
        "outputId": "933316b5-d381-4ced-9520-fbc69de10596"
      },
      "source": [
        "time_steps = np.linspace(0, 1, 10000)\n",
        "\n",
        "res = list(map(dome_func, time_steps))\n",
        "\n",
        "plt.plot(np.imag(res))"
      ],
      "execution_count": null,
      "outputs": [
        {
          "output_type": "execute_result",
          "data": {
            "text/plain": [
              "[<matplotlib.lines.Line2D at 0x7f07b2365650>]"
            ]
          },
          "metadata": {
            "tags": []
          },
          "execution_count": 62
        },
        {
          "output_type": "display_data",
          "data": {
            "image/png": "[encoded data removed]",
            "text/plain": [
              "<Figure size 432x288 with 1 Axes>"
            ]
          },
          "metadata": {
            "tags": [],
            "needs_background": "light"
          }
        }
      ]
    },
    {
      "cell_type": "code",
      "metadata": {
        "id": "-9z-zp7HeboZ"
      },
      "source": [
        "from scipy.integrate import quad\n",
        "import scipy as sp\n",
        "\n",
        "def fourier_approx(time_steps, func, n_total):\n",
        "  n_array = np.arange(-n_total/2, n_total/2 + 1, 1)\n",
        "\n",
        "  c_array_real = np.zeros(len(n_array))\n",
        "  c_array_imag = np.zeros(len(n_array))\n",
        "\n",
        "  res = np.zeros(len(time_steps))\n",
        "  res = res + 1j*res\n",
        "\n",
        "  for ind, n in enumerate(n_array):\n",
        "    integrand = lambda t : np.exp(-2*np.pi*1j*n*t) * func(t)\n",
        "\n",
        "    def real_val(x):\n",
        "      return np.real(integrand(x))\n",
        "\n",
        "    def img_val(x):\n",
        "      return np.imag(integrand(x))\n",
        "\n",
        "    c_array_real[ind] = quad(real_val, 0, 1)[0]\n",
        "    c_array_imag[ind] = quad(img_val, 0, 1)[0]\n",
        "\n",
        "    res += (c_array_real[ind] + 1j*c_array_imag[ind]) * np.exp(2*np.pi*1j*n*time_steps)\n",
        "  \n",
        "  return res"
      ],
      "execution_count": null,
      "outputs": []
    },
    {
      "cell_type": "code",
      "metadata": {
        "colab": {
          "base_uri": "https://localhost:8080/",
          "height": 282
        },
        "id": "ZZ4FNH71fKxU",
        "outputId": "9c2610fe-9565-40b9-e9b1-ca78b7db03c1"
      },
      "source": [
        "plt.plot(np.imag(fourier_approx(time_steps, dome_func, 100)))"
      ],
      "execution_count": null,
      "outputs": [
        {
          "output_type": "execute_result",
          "data": {
            "text/plain": [
              "[<matplotlib.lines.Line2D at 0x7f07b1f8f310>]"
            ]
          },
          "metadata": {
            "tags": []
          },
          "execution_count": 85
        },
        {
          "output_type": "display_data",
          "data": {
            "image/png": "[encoded data removed]",
            "text/plain": [
              "<Figure size 432x288 with 1 Axes>"
            ]
          },
          "metadata": {
            "tags": [],
            "needs_background": "light"
          }
        }
      ]
    },
    {
      "cell_type": "code",
      "metadata": {
        "id": "uQ9rQd4WfKzg"
      },
      "source": [
        ""
      ],
      "execution_count": null,
      "outputs": []
    },
    {
      "cell_type": "code",
      "metadata": {
        "id": "xKzeiJqhfK2_"
      },
      "source": [
        ""
      ],
      "execution_count": null,
      "outputs": []
    }
  ]
}